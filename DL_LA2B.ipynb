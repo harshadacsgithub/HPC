{
 "cells": [
  {
   "cell_type": "code",
   "execution_count": 1,
   "id": "046dcc7c-05b7-41b1-89a7-844f74d9551f",
   "metadata": {},
   "outputs": [],
   "source": [
    "import numpy as np\n",
    "import pandas as pd\n",
    "import tensorflow as tf\n",
    "import re\n",
    "import os\n",
    "from tensorflow.keras.preprocessing.text import Tokenizer\n",
    "from tensorflow.keras.preprocessing.sequence import pad_sequences\n",
    "from sklearn.model_selection import train_test_split\n",
    "from sklearn.metrics import accuracy_score, precision_score, recall_score, f1_score, confusion_matrix, roc_auc_score"
   ]
  },
  {
   "cell_type": "code",
   "execution_count": 9,
   "id": "edd2615a-39cd-46e7-84fe-128efa59cb93",
   "metadata": {},
   "outputs": [
    {
     "data": {
      "text/html": [
       "<div>\n",
       "<style scoped>\n",
       "    .dataframe tbody tr th:only-of-type {\n",
       "        vertical-align: middle;\n",
       "    }\n",
       "\n",
       "    .dataframe tbody tr th {\n",
       "        vertical-align: top;\n",
       "    }\n",
       "\n",
       "    .dataframe thead th {\n",
       "        text-align: right;\n",
       "    }\n",
       "</style>\n",
       "<table border=\"1\" class=\"dataframe\">\n",
       "  <thead>\n",
       "    <tr style=\"text-align: right;\">\n",
       "      <th></th>\n",
       "      <th>review</th>\n",
       "      <th>sentiment</th>\n",
       "    </tr>\n",
       "  </thead>\n",
       "  <tbody>\n",
       "    <tr>\n",
       "      <th>0</th>\n",
       "      <td>One of the other reviewers has mentioned that ...</td>\n",
       "      <td>positive</td>\n",
       "    </tr>\n",
       "    <tr>\n",
       "      <th>1</th>\n",
       "      <td>A wonderful little production. &lt;br /&gt;&lt;br /&gt;The...</td>\n",
       "      <td>positive</td>\n",
       "    </tr>\n",
       "    <tr>\n",
       "      <th>2</th>\n",
       "      <td>I thought this was a wonderful way to spend ti...</td>\n",
       "      <td>positive</td>\n",
       "    </tr>\n",
       "    <tr>\n",
       "      <th>3</th>\n",
       "      <td>Basically there's a family where a little boy ...</td>\n",
       "      <td>negative</td>\n",
       "    </tr>\n",
       "    <tr>\n",
       "      <th>4</th>\n",
       "      <td>Petter Mattei's \"Love in the Time of Money\" is...</td>\n",
       "      <td>positive</td>\n",
       "    </tr>\n",
       "  </tbody>\n",
       "</table>\n",
       "</div>"
      ],
      "text/plain": [
       "                                              review sentiment\n",
       "0  One of the other reviewers has mentioned that ...  positive\n",
       "1  A wonderful little production. <br /><br />The...  positive\n",
       "2  I thought this was a wonderful way to spend ti...  positive\n",
       "3  Basically there's a family where a little boy ...  negative\n",
       "4  Petter Mattei's \"Love in the Time of Money\" is...  positive"
      ]
     },
     "execution_count": 9,
     "metadata": {},
     "output_type": "execute_result"
    }
   ],
   "source": [
    "df=pd.read_csv('IMDB Dataset.csv')\n",
    "df.head()"
   ]
  },
  {
   "cell_type": "code",
   "execution_count": 13,
   "id": "5a85e169-f8e3-4d6e-ad52-d8339e8c4743",
   "metadata": {},
   "outputs": [
    {
     "data": {
      "text/plain": [
       "Index(['review', 'sentiment'], dtype='object')"
      ]
     },
     "execution_count": 13,
     "metadata": {},
     "output_type": "execute_result"
    }
   ],
   "source": [
    "df.columns"
   ]
  },
  {
   "cell_type": "code",
   "execution_count": 15,
   "id": "2f27d151-cf12-4984-bda0-3c2053905b3f",
   "metadata": {},
   "outputs": [
    {
     "data": {
      "text/html": [
       "<div>\n",
       "<style scoped>\n",
       "    .dataframe tbody tr th:only-of-type {\n",
       "        vertical-align: middle;\n",
       "    }\n",
       "\n",
       "    .dataframe tbody tr th {\n",
       "        vertical-align: top;\n",
       "    }\n",
       "\n",
       "    .dataframe thead th {\n",
       "        text-align: right;\n",
       "    }\n",
       "</style>\n",
       "<table border=\"1\" class=\"dataframe\">\n",
       "  <thead>\n",
       "    <tr style=\"text-align: right;\">\n",
       "      <th></th>\n",
       "      <th>review</th>\n",
       "      <th>sentiment</th>\n",
       "    </tr>\n",
       "  </thead>\n",
       "  <tbody>\n",
       "    <tr>\n",
       "      <th>0</th>\n",
       "      <td>One of the other reviewers has mentioned that ...</td>\n",
       "      <td>positive</td>\n",
       "    </tr>\n",
       "    <tr>\n",
       "      <th>1</th>\n",
       "      <td>A wonderful little production. &lt;br /&gt;&lt;br /&gt;The...</td>\n",
       "      <td>positive</td>\n",
       "    </tr>\n",
       "    <tr>\n",
       "      <th>2</th>\n",
       "      <td>I thought this was a wonderful way to spend ti...</td>\n",
       "      <td>positive</td>\n",
       "    </tr>\n",
       "    <tr>\n",
       "      <th>3</th>\n",
       "      <td>Basically there's a family where a little boy ...</td>\n",
       "      <td>negative</td>\n",
       "    </tr>\n",
       "    <tr>\n",
       "      <th>4</th>\n",
       "      <td>Petter Mattei's \"Love in the Time of Money\" is...</td>\n",
       "      <td>positive</td>\n",
       "    </tr>\n",
       "  </tbody>\n",
       "</table>\n",
       "</div>"
      ],
      "text/plain": [
       "                                              review sentiment\n",
       "0  One of the other reviewers has mentioned that ...  positive\n",
       "1  A wonderful little production. <br /><br />The...  positive\n",
       "2  I thought this was a wonderful way to spend ti...  positive\n",
       "3  Basically there's a family where a little boy ...  negative\n",
       "4  Petter Mattei's \"Love in the Time of Money\" is...  positive"
      ]
     },
     "execution_count": 15,
     "metadata": {},
     "output_type": "execute_result"
    }
   ],
   "source": [
    "df.head(5)"
   ]
  },
  {
   "cell_type": "code",
   "execution_count": 17,
   "id": "a908166b-2241-49ea-9e0e-2d3388650dad",
   "metadata": {},
   "outputs": [],
   "source": [
    "# **Step 3: Text Preprocessing (Cleaning)**\n",
    "def clean_text(text):\n",
    "    text = text.lower()  # Convert to lowercase\n",
    "    text = re.sub(r'<.*?>', '', text)  # Remove HTML tags\n",
    "    text = re.sub(r'[^a-zA-Z0-9\\s]', '', text)  # Remove special characters\n",
    "    text = re.sub(r'\\s+', ' ', text).strip()  # Remove extra spaces\n",
    "    return text"
   ]
  },
  {
   "cell_type": "code",
   "execution_count": 19,
   "id": "33b8f723-e392-47dd-8912-c024dbe2fe72",
   "metadata": {},
   "outputs": [],
   "source": [
    "df['review'] = df['review'].apply(clean_text)"
   ]
  },
  {
   "cell_type": "code",
   "execution_count": 21,
   "id": "ab25f922-ac4e-4849-841e-9d4096634850",
   "metadata": {},
   "outputs": [],
   "source": [
    "# **Step 4: Convert Sentiments to Binary**\n",
    "df['sentiment'] = df['sentiment'].map({'positive': 1, 'negative': 0})"
   ]
  },
  {
   "cell_type": "code",
   "execution_count": 23,
   "id": "e0b461f8-ff79-4202-8ef8-fc3c443a0daf",
   "metadata": {},
   "outputs": [],
   "source": [
    "# ✅ Tokenization without limiting vocab size\n",
    "tokenizer = Tokenizer(oov_token=\"<OOV>\")\n",
    "tokenizer.fit_on_texts(df['review'])\n",
    "sequences = tokenizer.texts_to_sequences(df['review'])"
   ]
  },
  {
   "cell_type": "code",
   "execution_count": 25,
   "id": "d6b75d16-8764-4e0f-947f-4b18aad38239",
   "metadata": {},
   "outputs": [],
   "source": [
    "# ✅ Padding based on the longest review in the dataset\n",
    "max_length = max(len(seq) for seq in sequences)\n",
    "padded_sequences = pad_sequences(sequences, maxlen=max_length, padding='post')"
   ]
  },
  {
   "cell_type": "code",
   "execution_count": 27,
   "id": "0668cbbb-b269-46dc-b1bd-124ebf80fc49",
   "metadata": {},
   "outputs": [],
   "source": [
    "# ✅ Train-Test Split\n",
    "X_train, X_test, y_train, y_test = train_test_split(\n",
    "    padded_sequences, df['sentiment'], test_size=0.2, random_state=42\n",
    ")\n"
   ]
  },
  {
   "cell_type": "code",
   "execution_count": 29,
   "id": "548e155e-152e-4e46-a81a-011aea3ef584",
   "metadata": {},
   "outputs": [],
   "source": [
    "# ✅ Model Definition using actual vocab size\n",
    "vocab_size = len(tokenizer.word_index) + 1  # +1 for padding token\n",
    "embedding_dim = 64"
   ]
  },
  {
   "cell_type": "code",
   "execution_count": 31,
   "id": "6071f413-8681-440a-b29a-f5346f1ec970",
   "metadata": {},
   "outputs": [
    {
     "name": "stderr",
     "output_type": "stream",
     "text": [
      "C:\\Users\\Harshada\\anaconda31\\Lib\\site-packages\\keras\\src\\layers\\core\\embedding.py:90: UserWarning: Argument `input_length` is deprecated. Just remove it.\n",
      "  warnings.warn(\n"
     ]
    }
   ],
   "source": [
    "model = tf.keras.Sequential([\n",
    "    tf.keras.layers.Embedding(input_dim=vocab_size, output_dim=embedding_dim, input_length=max_length),\n",
    "    tf.keras.layers.Conv1D(64, 5, activation='relu'),\n",
    "    tf.keras.layers.GlobalMaxPooling1D(),\n",
    "    tf.keras.layers.Dense(128, activation='relu'),\n",
    "    tf.keras.layers.Dropout(0.4),\n",
    "    tf.keras.layers.Dense(1, activation='sigmoid')\n",
    "])"
   ]
  },
  {
   "cell_type": "code",
   "execution_count": 33,
   "id": "39b313ef-7bbe-4919-b13c-943d53b735f3",
   "metadata": {},
   "outputs": [],
   "source": [
    "# ✅ Compile Model\n",
    "model.compile(optimizer='adam', loss='binary_crossentropy', metrics=['accuracy'])"
   ]
  },
  {
   "cell_type": "code",
   "execution_count": 37,
   "id": "0822433b-2c89-41d2-bfb9-6113508cbe57",
   "metadata": {},
   "outputs": [
    {
     "name": "stdout",
     "output_type": "stream",
     "text": [
      "Epoch 1/4\n",
      "\u001b[1m625/625\u001b[0m \u001b[32m━━━━━━━━━━━━━━━━━━━━\u001b[0m\u001b[37m\u001b[0m \u001b[1m313s\u001b[0m 490ms/step - accuracy: 0.6998 - loss: 0.5243 - val_accuracy: 0.8959 - val_loss: 0.2480\n",
      "Epoch 2/4\n",
      "\u001b[1m625/625\u001b[0m \u001b[32m━━━━━━━━━━━━━━━━━━━━\u001b[0m\u001b[37m\u001b[0m \u001b[1m315s\u001b[0m 504ms/step - accuracy: 0.9487 - loss: 0.1441 - val_accuracy: 0.9055 - val_loss: 0.2360\n",
      "Epoch 3/4\n",
      "\u001b[1m625/625\u001b[0m \u001b[32m━━━━━━━━━━━━━━━━━━━━\u001b[0m\u001b[37m\u001b[0m \u001b[1m488s\u001b[0m 780ms/step - accuracy: 0.9934 - loss: 0.0319 - val_accuracy: 0.8999 - val_loss: 0.2967\n",
      "Epoch 4/4\n",
      "\u001b[1m625/625\u001b[0m \u001b[32m━━━━━━━━━━━━━━━━━━━━\u001b[0m\u001b[37m\u001b[0m \u001b[1m298s\u001b[0m 477ms/step - accuracy: 0.9997 - loss: 0.0039 - val_accuracy: 0.9041 - val_loss: 0.3280\n"
     ]
    }
   ],
   "source": [
    "# ✅ Train Model\n",
    "history = model.fit(X_train, y_train, epochs=4, batch_size=64, validation_data=(X_test, y_test))"
   ]
  },
  {
   "cell_type": "code",
   "execution_count": 39,
   "id": "d5f0a642-6606-4a71-908f-47f13dcc856b",
   "metadata": {},
   "outputs": [
    {
     "name": "stdout",
     "output_type": "stream",
     "text": [
      "\u001b[1m313/313\u001b[0m \u001b[32m━━━━━━━━━━━━━━━━━━━━\u001b[0m\u001b[37m\u001b[0m \u001b[1m14s\u001b[0m 44ms/step - accuracy: 0.9081 - loss: 0.3088\n",
      "\n",
      "✅ Test Accuracy: 0.90\n"
     ]
    }
   ],
   "source": [
    "# ✅ Evaluate Model\n",
    "test_loss, test_acc = model.evaluate(X_test, y_test)\n",
    "print(f\"\\n✅ Test Accuracy: {test_acc:.2f}\")\n"
   ]
  },
  {
   "cell_type": "code",
   "execution_count": 41,
   "id": "e1816342-198a-43b3-bb90-2aaed03469a7",
   "metadata": {},
   "outputs": [
    {
     "name": "stdout",
     "output_type": "stream",
     "text": [
      "\u001b[1m313/313\u001b[0m \u001b[32m━━━━━━━━━━━━━━━━━━━━\u001b[0m\u001b[37m\u001b[0m \u001b[1m14s\u001b[0m 43ms/step\n",
      "\n",
      "🔹 Number of Misclassified Samples: 959\n",
      "\n",
      "🔹 Sample Misclassified Reviews:\n",
      "\n",
      "🔹 Review: first of all lets get a few things straight here a i am an anime fan always has been as a matter of fact i used to watch speed racer all the time in preschool b i do like several bmovies because theyre hilarious c i like the godzilla movies a lotmoving on when the movie first comes on it seems like ...\n",
      "   ✅ Actual Sentiment: Positive\n",
      "   ❌ Predicted Sentiment: Negative\n",
      "\n",
      "🔹 Review: this movie was so frustrating everything seemed energetic and i was totally prepared to have a good time i at least thought id be able to stand it but i was wrong first the weird looping it was like watching americas funniest home videos the damn parents i hated them so much the stereotypical latino...\n",
      "   ✅ Actual Sentiment: Negative\n",
      "   ❌ Predicted Sentiment: Positive\n",
      "\n",
      "🔹 Review: war movie is a hollywood genre that has been done and redone so many times that clichd dialogue rehashed plot and overthetop action sequences seem unavoidable for any conflict dealing with largescale combat once in a while however a war movie comes along that goes against the grain and brings a trul...\n",
      "   ✅ Actual Sentiment: Positive\n",
      "   ❌ Predicted Sentiment: Negative\n",
      "\n",
      "🔹 Review: my first exposure to the templarios not a good one i was excited to find this title among the offerings from anchor bay video which has brought us other cult classics such as spider baby the print quality is excellent but this alone cant hide the fact that the film is deadly dull theres a thrilling ...\n",
      "   ✅ Actual Sentiment: Negative\n",
      "   ❌ Predicted Sentiment: Positive\n",
      "\n",
      "🔹 Review: protocol is an implausible movie whose only saving grace is that it stars goldie hawn along with a good cast of supporting actors the story revolves around a ditzy cocktail waitress who becomes famous after inadvertently saving the life of an arab dignitary the story goes downhill halfway through th...\n",
      "   ✅ Actual Sentiment: Positive\n",
      "   ❌ Predicted Sentiment: Negative\n"
     ]
    }
   ],
   "source": [
    "# ✅ Predictions & Misclassified Samples\n",
    "y_pred_probs = model.predict(X_test)\n",
    "y_pred = (y_pred_probs > 0.5).astype(\"int32\").flatten()\n",
    "misclassified_indices = np.where(y_pred != y_test.to_numpy())[0]\n",
    "print(f\"\\n🔹 Number of Misclassified Samples: {len(misclassified_indices)}\")\n",
    "\n",
    "num_samples_to_display = 5\n",
    "misclassified_samples = misclassified_indices[:num_samples_to_display]\n",
    "\n",
    "print(\"\\n🔹 Sample Misclassified Reviews:\")\n",
    "for idx in misclassified_samples:\n",
    "    print(f\"\\n🔹 Review: {df.iloc[idx]['review'][:300]}...\")\n",
    "    print(f\"   ✅ Actual Sentiment: {'Positive' if y_test.iloc[idx] == 1 else 'Negative'}\")\n",
    "    print(f\"   ❌ Predicted Sentiment: {'Positive' if y_pred[idx] == 1 else 'Negative'}\")"
   ]
  },
  {
   "cell_type": "code",
   "execution_count": null,
   "id": "19a9920c-4c9e-41fb-864a-34c63997222b",
   "metadata": {},
   "outputs": [],
   "source": []
  }
 ],
 "metadata": {
  "kernelspec": {
   "display_name": "Python 3 (ipykernel)",
   "language": "python",
   "name": "python3"
  },
  "language_info": {
   "codemirror_mode": {
    "name": "ipython",
    "version": 3
   },
   "file_extension": ".py",
   "mimetype": "text/x-python",
   "name": "python",
   "nbconvert_exporter": "python",
   "pygments_lexer": "ipython3",
   "version": "3.12.7"
  }
 },
 "nbformat": 4,
 "nbformat_minor": 5
}
